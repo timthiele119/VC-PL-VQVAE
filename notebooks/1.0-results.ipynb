{
 "cells": [
  {
   "cell_type": "markdown",
   "source": [
    "# Results"
   ],
   "metadata": {
    "collapsed": false
   }
  },
  {
   "cell_type": "markdown",
   "source": [],
   "metadata": {
    "collapsed": false
   }
  },
  {
   "cell_type": "code",
   "execution_count": 1,
   "outputs": [
    {
     "name": "stdout",
     "output_type": "stream",
     "text": [
      "Tue Apr  4 12:10:10 2023       \r\n",
      "+-----------------------------------------------------------------------------+\r\n",
      "| NVIDIA-SMI 525.60.13    Driver Version: 525.60.13    CUDA Version: 12.0     |\r\n",
      "|-------------------------------+----------------------+----------------------+\r\n",
      "| GPU  Name        Persistence-M| Bus-Id        Disp.A | Volatile Uncorr. ECC |\r\n",
      "| Fan  Temp  Perf  Pwr:Usage/Cap|         Memory-Usage | GPU-Util  Compute M. |\r\n",
      "|                               |                      |               MIG M. |\r\n",
      "|===============================+======================+======================|\r\n",
      "|   0  Tesla V100-SXM2...  Off  | 00000000:61:00.0 Off |                    0 |\r\n",
      "| N/A   59C    P0   263W / 300W |  19905MiB / 32768MiB |     88%      Default |\r\n",
      "|                               |                      |                  N/A |\r\n",
      "+-------------------------------+----------------------+----------------------+\r\n",
      "|   1  Tesla V100-SXM2...  Off  | 00000000:62:00.0 Off |                    0 |\r\n",
      "| N/A   30C    P0    41W / 300W |      0MiB / 32768MiB |      0%      Default |\r\n",
      "|                               |                      |                  N/A |\r\n",
      "+-------------------------------+----------------------+----------------------+\r\n",
      "|   2  Tesla V100-SXM2...  Off  | 00000000:89:00.0 Off |                    0 |\r\n",
      "| N/A   31C    P0    55W / 300W |   3645MiB / 32768MiB |      0%      Default |\r\n",
      "|                               |                      |                  N/A |\r\n",
      "+-------------------------------+----------------------+----------------------+\r\n",
      "                                                                               \r\n",
      "+-----------------------------------------------------------------------------+\r\n",
      "| Processes:                                                                  |\r\n",
      "|  GPU   GI   CI        PID   Type   Process name                  GPU Memory |\r\n",
      "|        ID   ID                                                   Usage      |\r\n",
      "|=============================================================================|\r\n",
      "+-----------------------------------------------------------------------------+\r\n"
     ]
    }
   ],
   "source": [
    "!nvidia-smi"
   ],
   "metadata": {
    "collapsed": false,
    "ExecuteTime": {
     "start_time": "2023-04-04T14:10:10.407051Z",
     "end_time": "2023-04-04T14:10:10.777141Z"
    }
   }
  },
  {
   "cell_type": "markdown",
   "source": [
    "## Load Dependencies"
   ],
   "metadata": {
    "collapsed": false
   }
  },
  {
   "cell_type": "code",
   "execution_count": 1,
   "metadata": {
    "collapsed": true,
    "ExecuteTime": {
     "start_time": "2023-04-11T14:40:55.092623Z",
     "end_time": "2023-04-11T14:41:05.911918Z"
    }
   },
   "outputs": [
    {
     "name": "stdout",
     "output_type": "stream",
     "text": [
      "/project/fdreyer/projects/vqvae-vc\n",
      "Use cuda device\n"
     ]
    }
   ],
   "source": [
    "from collections import defaultdict\n",
    "import IPython.display as ipd\n",
    "import os, sys\n",
    "from pathlib import Path\n",
    "import torch\n",
    "import yaml\n",
    "import soundfile as sf\n",
    "from parallel_wavegan.utils import load_model\n",
    "from tqdm import tqdm\n",
    "\n",
    "os.environ[\"CUDA_VISIBLE_DEVICES\"] = '1'  # Specify your cuda device here\n",
    "PROJECT_ROOT = \"/project/fdreyer/projects/vqvae-vc\"\n",
    "sys.path.append(PROJECT_ROOT)\n",
    "%cd {PROJECT_ROOT}\n",
    "\n",
    "from src.models.hle_vqvae_vc import HleVqVaeVc\n",
    "from src.data.datamodules import VCDataModule\n",
    "from src.params import global_params\n",
    "\n",
    "device = \"cuda\" if torch.cuda.is_available() else \"cpu\"\n",
    "print(f\"Use {device} device\")\n",
    "\n",
    "sr = 24_000"
   ]
  },
  {
   "cell_type": "markdown",
   "source": [
    "Vocoder:"
   ],
   "metadata": {
    "collapsed": false
   }
  },
  {
   "cell_type": "code",
   "execution_count": 2,
   "outputs": [],
   "source": [
    "vocoder = load_model(global_params.PATH_HIFIGAN_PARAMS).to(device)"
   ],
   "metadata": {
    "collapsed": false,
    "ExecuteTime": {
     "start_time": "2023-04-11T14:41:05.900983Z",
     "end_time": "2023-04-11T14:41:08.462864Z"
    }
   }
  },
  {
   "cell_type": "markdown",
   "source": [
    "Validation Dataset:"
   ],
   "metadata": {
    "collapsed": false
   }
  },
  {
   "cell_type": "code",
   "execution_count": 3,
   "outputs": [
    {
     "name": "stdout",
     "output_type": "stream",
     "text": [
      "Create Train Dataset\n",
      "Create Val Dataset\n"
     ]
    }
   ],
   "source": [
    "VCTK_DATASET_CONFIG_PATH = os.path.join(PROJECT_ROOT, \"config\", \"data\", \"esd_eng\", \"esd_eng-24kHZ.yml\")\n",
    "with open(VCTK_DATASET_CONFIG_PATH) as f:\n",
    "    vctk_config = yaml.safe_load(f)[\"data\"]\n",
    "\n",
    "vctk_data_module = VCDataModule(**vctk_config)\n",
    "vctk_data_module.prepare_data()\n",
    "vctk_val_data_loader = vctk_data_module.val_dataloader()\n",
    "vctk_train_data_loader = vctk_data_module.train_dataloader()"
   ],
   "metadata": {
    "collapsed": false,
    "ExecuteTime": {
     "start_time": "2023-04-11T14:41:08.463306Z",
     "end_time": "2023-04-11T14:41:47.710932Z"
    }
   }
  },
  {
   "cell_type": "markdown",
   "source": [
    "## HLE-VQVAE-VC"
   ],
   "metadata": {
    "collapsed": false
   }
  },
  {
   "cell_type": "code",
   "execution_count": 8,
   "outputs": [
    {
     "data": {
      "text/plain": "HleVqVaeVc(\n  (speaker_embedding): SpeakerEmbedding(\n    (embedding): Embedding(10, 16)\n  )\n  (encoder_bot): HleEncoder(\n    (input_layer): Sequential(\n      (0): HleConv1d(80, 256, kernel_size=(15,), stride=(1,), padding=(7,))\n      (1): GLU(dim=1)\n    )\n    (downsampling_layer): Sequential(\n      (0): HleConv1d(128, 256, kernel_size=(8,), stride=(2,), padding=(3,))\n      (1): InstanceNorm1d(256, eps=1e-05, momentum=0.8, affine=False, track_running_stats=False)\n      (2): GLU(dim=1)\n    )\n    (dilation_stack): WaveNetLikeStack(\n      (stack): ModuleList(\n        (0): WaveNetLikeCell(\n          (in_seq_layer): Sequential(\n            (0): HleConv1d(128, 256, kernel_size=(5,), stride=(1,), padding=(2,))\n            (1): InstanceNorm1d(256, eps=1e-05, momentum=0.25, affine=False, track_running_stats=False)\n          )\n          (residual_layer): Sequential(\n            (0): HleConv1d(128, 128, kernel_size=(5,), stride=(1,), padding=(2,))\n            (1): InstanceNorm1d(128, eps=1e-05, momentum=0.25, affine=False, track_running_stats=False)\n          )\n          (skip_layer): Sequential(\n            (0): HleConv1d(128, 128, kernel_size=(5,), stride=(1,), padding=(2,))\n            (1): InstanceNorm1d(128, eps=1e-05, momentum=0.25, affine=False, track_running_stats=False)\n          )\n        )\n        (1): WaveNetLikeCell(\n          (in_seq_layer): Sequential(\n            (0): HleConv1d(128, 256, kernel_size=(5,), stride=(1,), padding=(4,), dilation=(2,))\n            (1): InstanceNorm1d(256, eps=1e-05, momentum=0.25, affine=False, track_running_stats=False)\n          )\n          (residual_layer): Sequential(\n            (0): HleConv1d(128, 128, kernel_size=(5,), stride=(1,), padding=(2,))\n            (1): InstanceNorm1d(128, eps=1e-05, momentum=0.25, affine=False, track_running_stats=False)\n          )\n          (skip_layer): Sequential(\n            (0): HleConv1d(128, 128, kernel_size=(5,), stride=(1,), padding=(2,))\n            (1): InstanceNorm1d(128, eps=1e-05, momentum=0.25, affine=False, track_running_stats=False)\n          )\n        )\n        (2): WaveNetLikeCell(\n          (in_seq_layer): Sequential(\n            (0): HleConv1d(128, 256, kernel_size=(5,), stride=(1,), padding=(8,), dilation=(4,))\n            (1): InstanceNorm1d(256, eps=1e-05, momentum=0.25, affine=False, track_running_stats=False)\n          )\n          (residual_layer): Sequential(\n            (0): HleConv1d(128, 128, kernel_size=(5,), stride=(1,), padding=(2,))\n            (1): InstanceNorm1d(128, eps=1e-05, momentum=0.25, affine=False, track_running_stats=False)\n          )\n          (skip_layer): Sequential(\n            (0): HleConv1d(128, 128, kernel_size=(5,), stride=(1,), padding=(2,))\n            (1): InstanceNorm1d(128, eps=1e-05, momentum=0.25, affine=False, track_running_stats=False)\n          )\n        )\n        (3): WaveNetLikeCell(\n          (in_seq_layer): Sequential(\n            (0): HleConv1d(128, 256, kernel_size=(5,), stride=(1,), padding=(2,))\n            (1): InstanceNorm1d(256, eps=1e-05, momentum=0.25, affine=False, track_running_stats=False)\n          )\n          (residual_layer): Sequential(\n            (0): HleConv1d(128, 128, kernel_size=(5,), stride=(1,), padding=(2,))\n            (1): InstanceNorm1d(128, eps=1e-05, momentum=0.25, affine=False, track_running_stats=False)\n          )\n          (skip_layer): Sequential(\n            (0): HleConv1d(128, 128, kernel_size=(5,), stride=(1,), padding=(2,))\n            (1): InstanceNorm1d(128, eps=1e-05, momentum=0.25, affine=False, track_running_stats=False)\n          )\n        )\n        (4): WaveNetLikeCell(\n          (in_seq_layer): Sequential(\n            (0): HleConv1d(128, 256, kernel_size=(5,), stride=(1,), padding=(4,), dilation=(2,))\n            (1): InstanceNorm1d(256, eps=1e-05, momentum=0.25, affine=False, track_running_stats=False)\n          )\n          (residual_layer): Sequential(\n            (0): HleConv1d(128, 128, kernel_size=(5,), stride=(1,), padding=(2,))\n            (1): InstanceNorm1d(128, eps=1e-05, momentum=0.25, affine=False, track_running_stats=False)\n          )\n          (skip_layer): Sequential(\n            (0): HleConv1d(128, 128, kernel_size=(5,), stride=(1,), padding=(2,))\n            (1): InstanceNorm1d(128, eps=1e-05, momentum=0.25, affine=False, track_running_stats=False)\n          )\n        )\n        (5): WaveNetLikeCell(\n          (in_seq_layer): Sequential(\n            (0): HleConv1d(128, 256, kernel_size=(5,), stride=(1,), padding=(8,), dilation=(4,))\n            (1): InstanceNorm1d(256, eps=1e-05, momentum=0.25, affine=False, track_running_stats=False)\n          )\n          (residual_layer): Sequential(\n            (0): HleConv1d(128, 128, kernel_size=(5,), stride=(1,), padding=(2,))\n            (1): InstanceNorm1d(128, eps=1e-05, momentum=0.25, affine=False, track_running_stats=False)\n          )\n          (skip_layer): Sequential(\n            (0): HleConv1d(128, 128, kernel_size=(5,), stride=(1,), padding=(2,))\n            (1): InstanceNorm1d(128, eps=1e-05, momentum=0.25, affine=False, track_running_stats=False)\n          )\n        )\n        (6): WaveNetLikeCell(\n          (in_seq_layer): Sequential(\n            (0): HleConv1d(128, 256, kernel_size=(5,), stride=(1,), padding=(2,))\n            (1): InstanceNorm1d(256, eps=1e-05, momentum=0.25, affine=False, track_running_stats=False)\n          )\n          (residual_layer): Sequential(\n            (0): HleConv1d(128, 128, kernel_size=(5,), stride=(1,), padding=(2,))\n            (1): InstanceNorm1d(128, eps=1e-05, momentum=0.25, affine=False, track_running_stats=False)\n          )\n          (skip_layer): Sequential(\n            (0): HleConv1d(128, 128, kernel_size=(5,), stride=(1,), padding=(2,))\n            (1): InstanceNorm1d(128, eps=1e-05, momentum=0.25, affine=False, track_running_stats=False)\n          )\n        )\n        (7): WaveNetLikeCell(\n          (in_seq_layer): Sequential(\n            (0): HleConv1d(128, 256, kernel_size=(5,), stride=(1,), padding=(4,), dilation=(2,))\n            (1): InstanceNorm1d(256, eps=1e-05, momentum=0.25, affine=False, track_running_stats=False)\n          )\n          (residual_layer): Sequential(\n            (0): HleConv1d(128, 128, kernel_size=(5,), stride=(1,), padding=(2,))\n            (1): InstanceNorm1d(128, eps=1e-05, momentum=0.25, affine=False, track_running_stats=False)\n          )\n          (skip_layer): Sequential(\n            (0): HleConv1d(128, 128, kernel_size=(5,), stride=(1,), padding=(2,))\n            (1): InstanceNorm1d(128, eps=1e-05, momentum=0.25, affine=False, track_running_stats=False)\n          )\n        )\n        (8): WaveNetLikeCell(\n          (in_seq_layer): Sequential(\n            (0): HleConv1d(128, 256, kernel_size=(5,), stride=(1,), padding=(8,), dilation=(4,))\n            (1): InstanceNorm1d(256, eps=1e-05, momentum=0.25, affine=False, track_running_stats=False)\n          )\n          (residual_layer): Sequential(\n            (0): HleConv1d(128, 128, kernel_size=(5,), stride=(1,), padding=(2,))\n            (1): InstanceNorm1d(128, eps=1e-05, momentum=0.25, affine=False, track_running_stats=False)\n          )\n          (skip_layer): Sequential(\n            (0): HleConv1d(128, 128, kernel_size=(5,), stride=(1,), padding=(2,))\n            (1): InstanceNorm1d(128, eps=1e-05, momentum=0.25, affine=False, track_running_stats=False)\n          )\n        )\n      )\n    )\n    (output_layer): Sequential(\n      (0): HleConv1d(128, 320, kernel_size=(5,), stride=(1,), padding=(2,))\n      (1): InstanceNorm1d(320, eps=1e-05, momentum=0.8, affine=False, track_running_stats=False)\n      (2): GLU(dim=1)\n      (3): HleConv1d(160, 160, kernel_size=(1,), stride=(1,))\n    )\n  )\n  (encoder_mid): HleEncoder(\n    (input_layer): Sequential(\n      (0): HleConv1d(128, 256, kernel_size=(15,), stride=(1,), padding=(7,))\n      (1): GLU(dim=1)\n    )\n    (downsampling_layer): Sequential(\n      (0): HleConv1d(128, 256, kernel_size=(8,), stride=(2,), padding=(3,))\n      (1): InstanceNorm1d(256, eps=1e-05, momentum=0.8, affine=False, track_running_stats=False)\n      (2): GLU(dim=1)\n    )\n    (dilation_stack): WaveNetLikeStack(\n      (stack): ModuleList(\n        (0): WaveNetLikeCell(\n          (in_seq_layer): Sequential(\n            (0): HleConv1d(128, 256, kernel_size=(5,), stride=(1,), padding=(2,))\n            (1): InstanceNorm1d(256, eps=1e-05, momentum=0.25, affine=False, track_running_stats=False)\n          )\n          (residual_layer): Sequential(\n            (0): HleConv1d(128, 128, kernel_size=(5,), stride=(1,), padding=(2,))\n            (1): InstanceNorm1d(128, eps=1e-05, momentum=0.25, affine=False, track_running_stats=False)\n          )\n          (skip_layer): Sequential(\n            (0): HleConv1d(128, 128, kernel_size=(5,), stride=(1,), padding=(2,))\n            (1): InstanceNorm1d(128, eps=1e-05, momentum=0.25, affine=False, track_running_stats=False)\n          )\n        )\n        (1): WaveNetLikeCell(\n          (in_seq_layer): Sequential(\n            (0): HleConv1d(128, 256, kernel_size=(5,), stride=(1,), padding=(4,), dilation=(2,))\n            (1): InstanceNorm1d(256, eps=1e-05, momentum=0.25, affine=False, track_running_stats=False)\n          )\n          (residual_layer): Sequential(\n            (0): HleConv1d(128, 128, kernel_size=(5,), stride=(1,), padding=(2,))\n            (1): InstanceNorm1d(128, eps=1e-05, momentum=0.25, affine=False, track_running_stats=False)\n          )\n          (skip_layer): Sequential(\n            (0): HleConv1d(128, 128, kernel_size=(5,), stride=(1,), padding=(2,))\n            (1): InstanceNorm1d(128, eps=1e-05, momentum=0.25, affine=False, track_running_stats=False)\n          )\n        )\n        (2): WaveNetLikeCell(\n          (in_seq_layer): Sequential(\n            (0): HleConv1d(128, 256, kernel_size=(5,), stride=(1,), padding=(8,), dilation=(4,))\n            (1): InstanceNorm1d(256, eps=1e-05, momentum=0.25, affine=False, track_running_stats=False)\n          )\n          (residual_layer): Sequential(\n            (0): HleConv1d(128, 128, kernel_size=(5,), stride=(1,), padding=(2,))\n            (1): InstanceNorm1d(128, eps=1e-05, momentum=0.25, affine=False, track_running_stats=False)\n          )\n          (skip_layer): Sequential(\n            (0): HleConv1d(128, 128, kernel_size=(5,), stride=(1,), padding=(2,))\n            (1): InstanceNorm1d(128, eps=1e-05, momentum=0.25, affine=False, track_running_stats=False)\n          )\n        )\n        (3): WaveNetLikeCell(\n          (in_seq_layer): Sequential(\n            (0): HleConv1d(128, 256, kernel_size=(5,), stride=(1,), padding=(2,))\n            (1): InstanceNorm1d(256, eps=1e-05, momentum=0.25, affine=False, track_running_stats=False)\n          )\n          (residual_layer): Sequential(\n            (0): HleConv1d(128, 128, kernel_size=(5,), stride=(1,), padding=(2,))\n            (1): InstanceNorm1d(128, eps=1e-05, momentum=0.25, affine=False, track_running_stats=False)\n          )\n          (skip_layer): Sequential(\n            (0): HleConv1d(128, 128, kernel_size=(5,), stride=(1,), padding=(2,))\n            (1): InstanceNorm1d(128, eps=1e-05, momentum=0.25, affine=False, track_running_stats=False)\n          )\n        )\n        (4): WaveNetLikeCell(\n          (in_seq_layer): Sequential(\n            (0): HleConv1d(128, 256, kernel_size=(5,), stride=(1,), padding=(4,), dilation=(2,))\n            (1): InstanceNorm1d(256, eps=1e-05, momentum=0.25, affine=False, track_running_stats=False)\n          )\n          (residual_layer): Sequential(\n            (0): HleConv1d(128, 128, kernel_size=(5,), stride=(1,), padding=(2,))\n            (1): InstanceNorm1d(128, eps=1e-05, momentum=0.25, affine=False, track_running_stats=False)\n          )\n          (skip_layer): Sequential(\n            (0): HleConv1d(128, 128, kernel_size=(5,), stride=(1,), padding=(2,))\n            (1): InstanceNorm1d(128, eps=1e-05, momentum=0.25, affine=False, track_running_stats=False)\n          )\n        )\n        (5): WaveNetLikeCell(\n          (in_seq_layer): Sequential(\n            (0): HleConv1d(128, 256, kernel_size=(5,), stride=(1,), padding=(8,), dilation=(4,))\n            (1): InstanceNorm1d(256, eps=1e-05, momentum=0.25, affine=False, track_running_stats=False)\n          )\n          (residual_layer): Sequential(\n            (0): HleConv1d(128, 128, kernel_size=(5,), stride=(1,), padding=(2,))\n            (1): InstanceNorm1d(128, eps=1e-05, momentum=0.25, affine=False, track_running_stats=False)\n          )\n          (skip_layer): Sequential(\n            (0): HleConv1d(128, 128, kernel_size=(5,), stride=(1,), padding=(2,))\n            (1): InstanceNorm1d(128, eps=1e-05, momentum=0.25, affine=False, track_running_stats=False)\n          )\n        )\n        (6): WaveNetLikeCell(\n          (in_seq_layer): Sequential(\n            (0): HleConv1d(128, 256, kernel_size=(5,), stride=(1,), padding=(2,))\n            (1): InstanceNorm1d(256, eps=1e-05, momentum=0.25, affine=False, track_running_stats=False)\n          )\n          (residual_layer): Sequential(\n            (0): HleConv1d(128, 128, kernel_size=(5,), stride=(1,), padding=(2,))\n            (1): InstanceNorm1d(128, eps=1e-05, momentum=0.25, affine=False, track_running_stats=False)\n          )\n          (skip_layer): Sequential(\n            (0): HleConv1d(128, 128, kernel_size=(5,), stride=(1,), padding=(2,))\n            (1): InstanceNorm1d(128, eps=1e-05, momentum=0.25, affine=False, track_running_stats=False)\n          )\n        )\n        (7): WaveNetLikeCell(\n          (in_seq_layer): Sequential(\n            (0): HleConv1d(128, 256, kernel_size=(5,), stride=(1,), padding=(4,), dilation=(2,))\n            (1): InstanceNorm1d(256, eps=1e-05, momentum=0.25, affine=False, track_running_stats=False)\n          )\n          (residual_layer): Sequential(\n            (0): HleConv1d(128, 128, kernel_size=(5,), stride=(1,), padding=(2,))\n            (1): InstanceNorm1d(128, eps=1e-05, momentum=0.25, affine=False, track_running_stats=False)\n          )\n          (skip_layer): Sequential(\n            (0): HleConv1d(128, 128, kernel_size=(5,), stride=(1,), padding=(2,))\n            (1): InstanceNorm1d(128, eps=1e-05, momentum=0.25, affine=False, track_running_stats=False)\n          )\n        )\n        (8): WaveNetLikeCell(\n          (in_seq_layer): Sequential(\n            (0): HleConv1d(128, 256, kernel_size=(5,), stride=(1,), padding=(8,), dilation=(4,))\n            (1): InstanceNorm1d(256, eps=1e-05, momentum=0.25, affine=False, track_running_stats=False)\n          )\n          (residual_layer): Sequential(\n            (0): HleConv1d(128, 128, kernel_size=(5,), stride=(1,), padding=(2,))\n            (1): InstanceNorm1d(128, eps=1e-05, momentum=0.25, affine=False, track_running_stats=False)\n          )\n          (skip_layer): Sequential(\n            (0): HleConv1d(128, 128, kernel_size=(5,), stride=(1,), padding=(2,))\n            (1): InstanceNorm1d(128, eps=1e-05, momentum=0.25, affine=False, track_running_stats=False)\n          )\n        )\n      )\n    )\n    (output_layer): Sequential(\n      (0): HleConv1d(128, 320, kernel_size=(5,), stride=(1,), padding=(2,))\n      (1): InstanceNorm1d(320, eps=1e-05, momentum=0.8, affine=False, track_running_stats=False)\n      (2): GLU(dim=1)\n      (3): HleConv1d(160, 160, kernel_size=(1,), stride=(1,))\n    )\n  )\n  (encoder_top): HleEncoder(\n    (input_layer): Sequential(\n      (0): HleConv1d(128, 256, kernel_size=(15,), stride=(1,), padding=(7,))\n      (1): GLU(dim=1)\n    )\n    (downsampling_layer): Sequential(\n      (0): HleConv1d(128, 256, kernel_size=(8,), stride=(2,), padding=(3,))\n      (1): InstanceNorm1d(256, eps=1e-05, momentum=0.8, affine=False, track_running_stats=False)\n      (2): GLU(dim=1)\n    )\n    (dilation_stack): WaveNetLikeStack(\n      (stack): ModuleList(\n        (0): WaveNetLikeCell(\n          (in_seq_layer): Sequential(\n            (0): HleConv1d(128, 256, kernel_size=(5,), stride=(1,), padding=(2,))\n            (1): InstanceNorm1d(256, eps=1e-05, momentum=0.25, affine=False, track_running_stats=False)\n          )\n          (residual_layer): Sequential(\n            (0): HleConv1d(128, 128, kernel_size=(5,), stride=(1,), padding=(2,))\n            (1): InstanceNorm1d(128, eps=1e-05, momentum=0.25, affine=False, track_running_stats=False)\n          )\n          (skip_layer): Sequential(\n            (0): HleConv1d(128, 128, kernel_size=(5,), stride=(1,), padding=(2,))\n            (1): InstanceNorm1d(128, eps=1e-05, momentum=0.25, affine=False, track_running_stats=False)\n          )\n        )\n        (1): WaveNetLikeCell(\n          (in_seq_layer): Sequential(\n            (0): HleConv1d(128, 256, kernel_size=(5,), stride=(1,), padding=(4,), dilation=(2,))\n            (1): InstanceNorm1d(256, eps=1e-05, momentum=0.25, affine=False, track_running_stats=False)\n          )\n          (residual_layer): Sequential(\n            (0): HleConv1d(128, 128, kernel_size=(5,), stride=(1,), padding=(2,))\n            (1): InstanceNorm1d(128, eps=1e-05, momentum=0.25, affine=False, track_running_stats=False)\n          )\n          (skip_layer): Sequential(\n            (0): HleConv1d(128, 128, kernel_size=(5,), stride=(1,), padding=(2,))\n            (1): InstanceNorm1d(128, eps=1e-05, momentum=0.25, affine=False, track_running_stats=False)\n          )\n        )\n        (2): WaveNetLikeCell(\n          (in_seq_layer): Sequential(\n            (0): HleConv1d(128, 256, kernel_size=(5,), stride=(1,), padding=(8,), dilation=(4,))\n            (1): InstanceNorm1d(256, eps=1e-05, momentum=0.25, affine=False, track_running_stats=False)\n          )\n          (residual_layer): Sequential(\n            (0): HleConv1d(128, 128, kernel_size=(5,), stride=(1,), padding=(2,))\n            (1): InstanceNorm1d(128, eps=1e-05, momentum=0.25, affine=False, track_running_stats=False)\n          )\n          (skip_layer): Sequential(\n            (0): HleConv1d(128, 128, kernel_size=(5,), stride=(1,), padding=(2,))\n            (1): InstanceNorm1d(128, eps=1e-05, momentum=0.25, affine=False, track_running_stats=False)\n          )\n        )\n        (3): WaveNetLikeCell(\n          (in_seq_layer): Sequential(\n            (0): HleConv1d(128, 256, kernel_size=(5,), stride=(1,), padding=(2,))\n            (1): InstanceNorm1d(256, eps=1e-05, momentum=0.25, affine=False, track_running_stats=False)\n          )\n          (residual_layer): Sequential(\n            (0): HleConv1d(128, 128, kernel_size=(5,), stride=(1,), padding=(2,))\n            (1): InstanceNorm1d(128, eps=1e-05, momentum=0.25, affine=False, track_running_stats=False)\n          )\n          (skip_layer): Sequential(\n            (0): HleConv1d(128, 128, kernel_size=(5,), stride=(1,), padding=(2,))\n            (1): InstanceNorm1d(128, eps=1e-05, momentum=0.25, affine=False, track_running_stats=False)\n          )\n        )\n        (4): WaveNetLikeCell(\n          (in_seq_layer): Sequential(\n            (0): HleConv1d(128, 256, kernel_size=(5,), stride=(1,), padding=(4,), dilation=(2,))\n            (1): InstanceNorm1d(256, eps=1e-05, momentum=0.25, affine=False, track_running_stats=False)\n          )\n          (residual_layer): Sequential(\n            (0): HleConv1d(128, 128, kernel_size=(5,), stride=(1,), padding=(2,))\n            (1): InstanceNorm1d(128, eps=1e-05, momentum=0.25, affine=False, track_running_stats=False)\n          )\n          (skip_layer): Sequential(\n            (0): HleConv1d(128, 128, kernel_size=(5,), stride=(1,), padding=(2,))\n            (1): InstanceNorm1d(128, eps=1e-05, momentum=0.25, affine=False, track_running_stats=False)\n          )\n        )\n        (5): WaveNetLikeCell(\n          (in_seq_layer): Sequential(\n            (0): HleConv1d(128, 256, kernel_size=(5,), stride=(1,), padding=(8,), dilation=(4,))\n            (1): InstanceNorm1d(256, eps=1e-05, momentum=0.25, affine=False, track_running_stats=False)\n          )\n          (residual_layer): Sequential(\n            (0): HleConv1d(128, 128, kernel_size=(5,), stride=(1,), padding=(2,))\n            (1): InstanceNorm1d(128, eps=1e-05, momentum=0.25, affine=False, track_running_stats=False)\n          )\n          (skip_layer): Sequential(\n            (0): HleConv1d(128, 128, kernel_size=(5,), stride=(1,), padding=(2,))\n            (1): InstanceNorm1d(128, eps=1e-05, momentum=0.25, affine=False, track_running_stats=False)\n          )\n        )\n        (6): WaveNetLikeCell(\n          (in_seq_layer): Sequential(\n            (0): HleConv1d(128, 256, kernel_size=(5,), stride=(1,), padding=(2,))\n            (1): InstanceNorm1d(256, eps=1e-05, momentum=0.25, affine=False, track_running_stats=False)\n          )\n          (residual_layer): Sequential(\n            (0): HleConv1d(128, 128, kernel_size=(5,), stride=(1,), padding=(2,))\n            (1): InstanceNorm1d(128, eps=1e-05, momentum=0.25, affine=False, track_running_stats=False)\n          )\n          (skip_layer): Sequential(\n            (0): HleConv1d(128, 128, kernel_size=(5,), stride=(1,), padding=(2,))\n            (1): InstanceNorm1d(128, eps=1e-05, momentum=0.25, affine=False, track_running_stats=False)\n          )\n        )\n        (7): WaveNetLikeCell(\n          (in_seq_layer): Sequential(\n            (0): HleConv1d(128, 256, kernel_size=(5,), stride=(1,), padding=(4,), dilation=(2,))\n            (1): InstanceNorm1d(256, eps=1e-05, momentum=0.25, affine=False, track_running_stats=False)\n          )\n          (residual_layer): Sequential(\n            (0): HleConv1d(128, 128, kernel_size=(5,), stride=(1,), padding=(2,))\n            (1): InstanceNorm1d(128, eps=1e-05, momentum=0.25, affine=False, track_running_stats=False)\n          )\n          (skip_layer): Sequential(\n            (0): HleConv1d(128, 128, kernel_size=(5,), stride=(1,), padding=(2,))\n            (1): InstanceNorm1d(128, eps=1e-05, momentum=0.25, affine=False, track_running_stats=False)\n          )\n        )\n        (8): WaveNetLikeCell(\n          (in_seq_layer): Sequential(\n            (0): HleConv1d(128, 256, kernel_size=(5,), stride=(1,), padding=(8,), dilation=(4,))\n            (1): InstanceNorm1d(256, eps=1e-05, momentum=0.25, affine=False, track_running_stats=False)\n          )\n          (residual_layer): Sequential(\n            (0): HleConv1d(128, 128, kernel_size=(5,), stride=(1,), padding=(2,))\n            (1): InstanceNorm1d(128, eps=1e-05, momentum=0.25, affine=False, track_running_stats=False)\n          )\n          (skip_layer): Sequential(\n            (0): HleConv1d(128, 128, kernel_size=(5,), stride=(1,), padding=(2,))\n            (1): InstanceNorm1d(128, eps=1e-05, momentum=0.25, affine=False, track_running_stats=False)\n          )\n        )\n      )\n    )\n    (output_layer): Sequential(\n      (0): HleConv1d(128, 64, kernel_size=(5,), stride=(1,), padding=(2,))\n      (1): InstanceNorm1d(64, eps=1e-05, momentum=0.8, affine=False, track_running_stats=False)\n      (2): GLU(dim=1)\n      (3): HleConv1d(32, 32, kernel_size=(1,), stride=(1,))\n    )\n  )\n  (quantizer_bot): EMAVectorQuantizer()\n  (quantizer_mid): EMAVectorQuantizer()\n  (quantizer_top): EMAVectorQuantizer()\n  (decoder_bot): HleDecoder(\n    (input_layer): Sequential(\n      (0): HleConv1d(160, 256, kernel_size=(5,), stride=(1,), padding=(2,))\n      (1): InstanceNorm1d(256, eps=1e-05, momentum=0.25, affine=False, track_running_stats=False)\n      (2): GLU(dim=1)\n    )\n    (upsampling_layer): Sequential(\n      (0): HleConvTranspose1d(128, 256, kernel_size=(8,), stride=(2,), padding=(3,))\n      (1): InstanceNorm1d(256, eps=1e-05, momentum=0.25, affine=False, track_running_stats=False)\n      (2): GLU(dim=1)\n    )\n    (dilation_stack): WaveNetLikeStack(\n      (stack): ModuleList(\n        (0): WaveNetLikeCell(\n          (in_seq_layer): Sequential(\n            (0): HleConv1d(128, 256, kernel_size=(5,), stride=(1,), padding=(2,))\n            (1): InstanceNorm1d(256, eps=1e-05, momentum=0.25, affine=False, track_running_stats=False)\n          )\n          (in_cond_layer): Sequential(\n            (0): Linear(in_features=16, out_features=128, bias=True)\n            (1): ReLU(inplace=True)\n            (2): Linear(in_features=128, out_features=128, bias=True)\n            (3): ReLU(inplace=True)\n            (4): Linear(in_features=128, out_features=256, bias=True)\n            (5): ReLU(inplace=True)\n          )\n          (residual_layer): Sequential(\n            (0): HleConv1d(128, 128, kernel_size=(5,), stride=(1,), padding=(2,))\n            (1): InstanceNorm1d(128, eps=1e-05, momentum=0.25, affine=False, track_running_stats=False)\n          )\n          (skip_layer): Sequential(\n            (0): HleConv1d(128, 128, kernel_size=(5,), stride=(1,), padding=(2,))\n            (1): InstanceNorm1d(128, eps=1e-05, momentum=0.25, affine=False, track_running_stats=False)\n          )\n        )\n        (1): WaveNetLikeCell(\n          (in_seq_layer): Sequential(\n            (0): HleConv1d(128, 256, kernel_size=(5,), stride=(1,), padding=(4,), dilation=(2,))\n            (1): InstanceNorm1d(256, eps=1e-05, momentum=0.25, affine=False, track_running_stats=False)\n          )\n          (in_cond_layer): Sequential(\n            (0): Linear(in_features=16, out_features=128, bias=True)\n            (1): ReLU(inplace=True)\n            (2): Linear(in_features=128, out_features=128, bias=True)\n            (3): ReLU(inplace=True)\n            (4): Linear(in_features=128, out_features=256, bias=True)\n            (5): ReLU(inplace=True)\n          )\n          (residual_layer): Sequential(\n            (0): HleConv1d(128, 128, kernel_size=(5,), stride=(1,), padding=(2,))\n            (1): InstanceNorm1d(128, eps=1e-05, momentum=0.25, affine=False, track_running_stats=False)\n          )\n          (skip_layer): Sequential(\n            (0): HleConv1d(128, 128, kernel_size=(5,), stride=(1,), padding=(2,))\n            (1): InstanceNorm1d(128, eps=1e-05, momentum=0.25, affine=False, track_running_stats=False)\n          )\n        )\n        (2): WaveNetLikeCell(\n          (in_seq_layer): Sequential(\n            (0): HleConv1d(128, 256, kernel_size=(5,), stride=(1,), padding=(8,), dilation=(4,))\n            (1): InstanceNorm1d(256, eps=1e-05, momentum=0.25, affine=False, track_running_stats=False)\n          )\n          (in_cond_layer): Sequential(\n            (0): Linear(in_features=16, out_features=128, bias=True)\n            (1): ReLU(inplace=True)\n            (2): Linear(in_features=128, out_features=128, bias=True)\n            (3): ReLU(inplace=True)\n            (4): Linear(in_features=128, out_features=256, bias=True)\n            (5): ReLU(inplace=True)\n          )\n          (residual_layer): Sequential(\n            (0): HleConv1d(128, 128, kernel_size=(5,), stride=(1,), padding=(2,))\n            (1): InstanceNorm1d(128, eps=1e-05, momentum=0.25, affine=False, track_running_stats=False)\n          )\n          (skip_layer): Sequential(\n            (0): HleConv1d(128, 128, kernel_size=(5,), stride=(1,), padding=(2,))\n            (1): InstanceNorm1d(128, eps=1e-05, momentum=0.25, affine=False, track_running_stats=False)\n          )\n        )\n        (3): WaveNetLikeCell(\n          (in_seq_layer): Sequential(\n            (0): HleConv1d(128, 256, kernel_size=(5,), stride=(1,), padding=(2,))\n            (1): InstanceNorm1d(256, eps=1e-05, momentum=0.25, affine=False, track_running_stats=False)\n          )\n          (in_cond_layer): Sequential(\n            (0): Linear(in_features=16, out_features=128, bias=True)\n            (1): ReLU(inplace=True)\n            (2): Linear(in_features=128, out_features=128, bias=True)\n            (3): ReLU(inplace=True)\n            (4): Linear(in_features=128, out_features=256, bias=True)\n            (5): ReLU(inplace=True)\n          )\n          (residual_layer): Sequential(\n            (0): HleConv1d(128, 128, kernel_size=(5,), stride=(1,), padding=(2,))\n            (1): InstanceNorm1d(128, eps=1e-05, momentum=0.25, affine=False, track_running_stats=False)\n          )\n          (skip_layer): Sequential(\n            (0): HleConv1d(128, 128, kernel_size=(5,), stride=(1,), padding=(2,))\n            (1): InstanceNorm1d(128, eps=1e-05, momentum=0.25, affine=False, track_running_stats=False)\n          )\n        )\n        (4): WaveNetLikeCell(\n          (in_seq_layer): Sequential(\n            (0): HleConv1d(128, 256, kernel_size=(5,), stride=(1,), padding=(4,), dilation=(2,))\n            (1): InstanceNorm1d(256, eps=1e-05, momentum=0.25, affine=False, track_running_stats=False)\n          )\n          (in_cond_layer): Sequential(\n            (0): Linear(in_features=16, out_features=128, bias=True)\n            (1): ReLU(inplace=True)\n            (2): Linear(in_features=128, out_features=128, bias=True)\n            (3): ReLU(inplace=True)\n            (4): Linear(in_features=128, out_features=256, bias=True)\n            (5): ReLU(inplace=True)\n          )\n          (residual_layer): Sequential(\n            (0): HleConv1d(128, 128, kernel_size=(5,), stride=(1,), padding=(2,))\n            (1): InstanceNorm1d(128, eps=1e-05, momentum=0.25, affine=False, track_running_stats=False)\n          )\n          (skip_layer): Sequential(\n            (0): HleConv1d(128, 128, kernel_size=(5,), stride=(1,), padding=(2,))\n            (1): InstanceNorm1d(128, eps=1e-05, momentum=0.25, affine=False, track_running_stats=False)\n          )\n        )\n        (5): WaveNetLikeCell(\n          (in_seq_layer): Sequential(\n            (0): HleConv1d(128, 256, kernel_size=(5,), stride=(1,), padding=(8,), dilation=(4,))\n            (1): InstanceNorm1d(256, eps=1e-05, momentum=0.25, affine=False, track_running_stats=False)\n          )\n          (in_cond_layer): Sequential(\n            (0): Linear(in_features=16, out_features=128, bias=True)\n            (1): ReLU(inplace=True)\n            (2): Linear(in_features=128, out_features=128, bias=True)\n            (3): ReLU(inplace=True)\n            (4): Linear(in_features=128, out_features=256, bias=True)\n            (5): ReLU(inplace=True)\n          )\n          (residual_layer): Sequential(\n            (0): HleConv1d(128, 128, kernel_size=(5,), stride=(1,), padding=(2,))\n            (1): InstanceNorm1d(128, eps=1e-05, momentum=0.25, affine=False, track_running_stats=False)\n          )\n          (skip_layer): Sequential(\n            (0): HleConv1d(128, 128, kernel_size=(5,), stride=(1,), padding=(2,))\n            (1): InstanceNorm1d(128, eps=1e-05, momentum=0.25, affine=False, track_running_stats=False)\n          )\n        )\n        (6): WaveNetLikeCell(\n          (in_seq_layer): Sequential(\n            (0): HleConv1d(128, 256, kernel_size=(5,), stride=(1,), padding=(2,))\n            (1): InstanceNorm1d(256, eps=1e-05, momentum=0.25, affine=False, track_running_stats=False)\n          )\n          (in_cond_layer): Sequential(\n            (0): Linear(in_features=16, out_features=128, bias=True)\n            (1): ReLU(inplace=True)\n            (2): Linear(in_features=128, out_features=128, bias=True)\n            (3): ReLU(inplace=True)\n            (4): Linear(in_features=128, out_features=256, bias=True)\n            (5): ReLU(inplace=True)\n          )\n          (residual_layer): Sequential(\n            (0): HleConv1d(128, 128, kernel_size=(5,), stride=(1,), padding=(2,))\n            (1): InstanceNorm1d(128, eps=1e-05, momentum=0.25, affine=False, track_running_stats=False)\n          )\n          (skip_layer): Sequential(\n            (0): HleConv1d(128, 128, kernel_size=(5,), stride=(1,), padding=(2,))\n            (1): InstanceNorm1d(128, eps=1e-05, momentum=0.25, affine=False, track_running_stats=False)\n          )\n        )\n        (7): WaveNetLikeCell(\n          (in_seq_layer): Sequential(\n            (0): HleConv1d(128, 256, kernel_size=(5,), stride=(1,), padding=(4,), dilation=(2,))\n            (1): InstanceNorm1d(256, eps=1e-05, momentum=0.25, affine=False, track_running_stats=False)\n          )\n          (in_cond_layer): Sequential(\n            (0): Linear(in_features=16, out_features=128, bias=True)\n            (1): ReLU(inplace=True)\n            (2): Linear(in_features=128, out_features=128, bias=True)\n            (3): ReLU(inplace=True)\n            (4): Linear(in_features=128, out_features=256, bias=True)\n            (5): ReLU(inplace=True)\n          )\n          (residual_layer): Sequential(\n            (0): HleConv1d(128, 128, kernel_size=(5,), stride=(1,), padding=(2,))\n            (1): InstanceNorm1d(128, eps=1e-05, momentum=0.25, affine=False, track_running_stats=False)\n          )\n          (skip_layer): Sequential(\n            (0): HleConv1d(128, 128, kernel_size=(5,), stride=(1,), padding=(2,))\n            (1): InstanceNorm1d(128, eps=1e-05, momentum=0.25, affine=False, track_running_stats=False)\n          )\n        )\n        (8): WaveNetLikeCell(\n          (in_seq_layer): Sequential(\n            (0): HleConv1d(128, 256, kernel_size=(5,), stride=(1,), padding=(8,), dilation=(4,))\n            (1): InstanceNorm1d(256, eps=1e-05, momentum=0.25, affine=False, track_running_stats=False)\n          )\n          (in_cond_layer): Sequential(\n            (0): Linear(in_features=16, out_features=128, bias=True)\n            (1): ReLU(inplace=True)\n            (2): Linear(in_features=128, out_features=128, bias=True)\n            (3): ReLU(inplace=True)\n            (4): Linear(in_features=128, out_features=256, bias=True)\n            (5): ReLU(inplace=True)\n          )\n          (residual_layer): Sequential(\n            (0): HleConv1d(128, 128, kernel_size=(5,), stride=(1,), padding=(2,))\n            (1): InstanceNorm1d(128, eps=1e-05, momentum=0.25, affine=False, track_running_stats=False)\n          )\n          (skip_layer): Sequential(\n            (0): HleConv1d(128, 128, kernel_size=(5,), stride=(1,), padding=(2,))\n            (1): InstanceNorm1d(128, eps=1e-05, momentum=0.25, affine=False, track_running_stats=False)\n          )\n        )\n      )\n    )\n    (output_layer): Sequential(\n      (0): HleConv1d(128, 160, kernel_size=(5,), stride=(1,), padding=(2,))\n      (1): InstanceNorm1d(160, eps=1e-05, momentum=0.25, affine=False, track_running_stats=False)\n      (2): GLU(dim=1)\n      (3): HleConv1d(80, 80, kernel_size=(15,), stride=(1,), padding=(7,))\n    )\n  )\n  (decoder_mid): HleDecoder(\n    (input_layer): Sequential(\n      (0): HleConv1d(160, 256, kernel_size=(5,), stride=(1,), padding=(2,))\n      (1): InstanceNorm1d(256, eps=1e-05, momentum=0.25, affine=False, track_running_stats=False)\n      (2): GLU(dim=1)\n    )\n    (upsampling_layer): Sequential(\n      (0): HleConvTranspose1d(128, 256, kernel_size=(8,), stride=(2,), padding=(3,))\n      (1): InstanceNorm1d(256, eps=1e-05, momentum=0.25, affine=False, track_running_stats=False)\n      (2): GLU(dim=1)\n    )\n    (dilation_stack): WaveNetLikeStack(\n      (stack): ModuleList(\n        (0): WaveNetLikeCell(\n          (in_seq_layer): Sequential(\n            (0): HleConv1d(128, 256, kernel_size=(5,), stride=(1,), padding=(2,))\n            (1): InstanceNorm1d(256, eps=1e-05, momentum=0.25, affine=False, track_running_stats=False)\n          )\n          (in_cond_layer): Sequential(\n            (0): Linear(in_features=16, out_features=128, bias=True)\n            (1): ReLU(inplace=True)\n            (2): Linear(in_features=128, out_features=128, bias=True)\n            (3): ReLU(inplace=True)\n            (4): Linear(in_features=128, out_features=256, bias=True)\n            (5): ReLU(inplace=True)\n          )\n          (residual_layer): Sequential(\n            (0): HleConv1d(128, 128, kernel_size=(5,), stride=(1,), padding=(2,))\n            (1): InstanceNorm1d(128, eps=1e-05, momentum=0.25, affine=False, track_running_stats=False)\n          )\n          (skip_layer): Sequential(\n            (0): HleConv1d(128, 128, kernel_size=(5,), stride=(1,), padding=(2,))\n            (1): InstanceNorm1d(128, eps=1e-05, momentum=0.25, affine=False, track_running_stats=False)\n          )\n        )\n        (1): WaveNetLikeCell(\n          (in_seq_layer): Sequential(\n            (0): HleConv1d(128, 256, kernel_size=(5,), stride=(1,), padding=(4,), dilation=(2,))\n            (1): InstanceNorm1d(256, eps=1e-05, momentum=0.25, affine=False, track_running_stats=False)\n          )\n          (in_cond_layer): Sequential(\n            (0): Linear(in_features=16, out_features=128, bias=True)\n            (1): ReLU(inplace=True)\n            (2): Linear(in_features=128, out_features=128, bias=True)\n            (3): ReLU(inplace=True)\n            (4): Linear(in_features=128, out_features=256, bias=True)\n            (5): ReLU(inplace=True)\n          )\n          (residual_layer): Sequential(\n            (0): HleConv1d(128, 128, kernel_size=(5,), stride=(1,), padding=(2,))\n            (1): InstanceNorm1d(128, eps=1e-05, momentum=0.25, affine=False, track_running_stats=False)\n          )\n          (skip_layer): Sequential(\n            (0): HleConv1d(128, 128, kernel_size=(5,), stride=(1,), padding=(2,))\n            (1): InstanceNorm1d(128, eps=1e-05, momentum=0.25, affine=False, track_running_stats=False)\n          )\n        )\n        (2): WaveNetLikeCell(\n          (in_seq_layer): Sequential(\n            (0): HleConv1d(128, 256, kernel_size=(5,), stride=(1,), padding=(8,), dilation=(4,))\n            (1): InstanceNorm1d(256, eps=1e-05, momentum=0.25, affine=False, track_running_stats=False)\n          )\n          (in_cond_layer): Sequential(\n            (0): Linear(in_features=16, out_features=128, bias=True)\n            (1): ReLU(inplace=True)\n            (2): Linear(in_features=128, out_features=128, bias=True)\n            (3): ReLU(inplace=True)\n            (4): Linear(in_features=128, out_features=256, bias=True)\n            (5): ReLU(inplace=True)\n          )\n          (residual_layer): Sequential(\n            (0): HleConv1d(128, 128, kernel_size=(5,), stride=(1,), padding=(2,))\n            (1): InstanceNorm1d(128, eps=1e-05, momentum=0.25, affine=False, track_running_stats=False)\n          )\n          (skip_layer): Sequential(\n            (0): HleConv1d(128, 128, kernel_size=(5,), stride=(1,), padding=(2,))\n            (1): InstanceNorm1d(128, eps=1e-05, momentum=0.25, affine=False, track_running_stats=False)\n          )\n        )\n        (3): WaveNetLikeCell(\n          (in_seq_layer): Sequential(\n            (0): HleConv1d(128, 256, kernel_size=(5,), stride=(1,), padding=(2,))\n            (1): InstanceNorm1d(256, eps=1e-05, momentum=0.25, affine=False, track_running_stats=False)\n          )\n          (in_cond_layer): Sequential(\n            (0): Linear(in_features=16, out_features=128, bias=True)\n            (1): ReLU(inplace=True)\n            (2): Linear(in_features=128, out_features=128, bias=True)\n            (3): ReLU(inplace=True)\n            (4): Linear(in_features=128, out_features=256, bias=True)\n            (5): ReLU(inplace=True)\n          )\n          (residual_layer): Sequential(\n            (0): HleConv1d(128, 128, kernel_size=(5,), stride=(1,), padding=(2,))\n            (1): InstanceNorm1d(128, eps=1e-05, momentum=0.25, affine=False, track_running_stats=False)\n          )\n          (skip_layer): Sequential(\n            (0): HleConv1d(128, 128, kernel_size=(5,), stride=(1,), padding=(2,))\n            (1): InstanceNorm1d(128, eps=1e-05, momentum=0.25, affine=False, track_running_stats=False)\n          )\n        )\n        (4): WaveNetLikeCell(\n          (in_seq_layer): Sequential(\n            (0): HleConv1d(128, 256, kernel_size=(5,), stride=(1,), padding=(4,), dilation=(2,))\n            (1): InstanceNorm1d(256, eps=1e-05, momentum=0.25, affine=False, track_running_stats=False)\n          )\n          (in_cond_layer): Sequential(\n            (0): Linear(in_features=16, out_features=128, bias=True)\n            (1): ReLU(inplace=True)\n            (2): Linear(in_features=128, out_features=128, bias=True)\n            (3): ReLU(inplace=True)\n            (4): Linear(in_features=128, out_features=256, bias=True)\n            (5): ReLU(inplace=True)\n          )\n          (residual_layer): Sequential(\n            (0): HleConv1d(128, 128, kernel_size=(5,), stride=(1,), padding=(2,))\n            (1): InstanceNorm1d(128, eps=1e-05, momentum=0.25, affine=False, track_running_stats=False)\n          )\n          (skip_layer): Sequential(\n            (0): HleConv1d(128, 128, kernel_size=(5,), stride=(1,), padding=(2,))\n            (1): InstanceNorm1d(128, eps=1e-05, momentum=0.25, affine=False, track_running_stats=False)\n          )\n        )\n        (5): WaveNetLikeCell(\n          (in_seq_layer): Sequential(\n            (0): HleConv1d(128, 256, kernel_size=(5,), stride=(1,), padding=(8,), dilation=(4,))\n            (1): InstanceNorm1d(256, eps=1e-05, momentum=0.25, affine=False, track_running_stats=False)\n          )\n          (in_cond_layer): Sequential(\n            (0): Linear(in_features=16, out_features=128, bias=True)\n            (1): ReLU(inplace=True)\n            (2): Linear(in_features=128, out_features=128, bias=True)\n            (3): ReLU(inplace=True)\n            (4): Linear(in_features=128, out_features=256, bias=True)\n            (5): ReLU(inplace=True)\n          )\n          (residual_layer): Sequential(\n            (0): HleConv1d(128, 128, kernel_size=(5,), stride=(1,), padding=(2,))\n            (1): InstanceNorm1d(128, eps=1e-05, momentum=0.25, affine=False, track_running_stats=False)\n          )\n          (skip_layer): Sequential(\n            (0): HleConv1d(128, 128, kernel_size=(5,), stride=(1,), padding=(2,))\n            (1): InstanceNorm1d(128, eps=1e-05, momentum=0.25, affine=False, track_running_stats=False)\n          )\n        )\n        (6): WaveNetLikeCell(\n          (in_seq_layer): Sequential(\n            (0): HleConv1d(128, 256, kernel_size=(5,), stride=(1,), padding=(2,))\n            (1): InstanceNorm1d(256, eps=1e-05, momentum=0.25, affine=False, track_running_stats=False)\n          )\n          (in_cond_layer): Sequential(\n            (0): Linear(in_features=16, out_features=128, bias=True)\n            (1): ReLU(inplace=True)\n            (2): Linear(in_features=128, out_features=128, bias=True)\n            (3): ReLU(inplace=True)\n            (4): Linear(in_features=128, out_features=256, bias=True)\n            (5): ReLU(inplace=True)\n          )\n          (residual_layer): Sequential(\n            (0): HleConv1d(128, 128, kernel_size=(5,), stride=(1,), padding=(2,))\n            (1): InstanceNorm1d(128, eps=1e-05, momentum=0.25, affine=False, track_running_stats=False)\n          )\n          (skip_layer): Sequential(\n            (0): HleConv1d(128, 128, kernel_size=(5,), stride=(1,), padding=(2,))\n            (1): InstanceNorm1d(128, eps=1e-05, momentum=0.25, affine=False, track_running_stats=False)\n          )\n        )\n        (7): WaveNetLikeCell(\n          (in_seq_layer): Sequential(\n            (0): HleConv1d(128, 256, kernel_size=(5,), stride=(1,), padding=(4,), dilation=(2,))\n            (1): InstanceNorm1d(256, eps=1e-05, momentum=0.25, affine=False, track_running_stats=False)\n          )\n          (in_cond_layer): Sequential(\n            (0): Linear(in_features=16, out_features=128, bias=True)\n            (1): ReLU(inplace=True)\n            (2): Linear(in_features=128, out_features=128, bias=True)\n            (3): ReLU(inplace=True)\n            (4): Linear(in_features=128, out_features=256, bias=True)\n            (5): ReLU(inplace=True)\n          )\n          (residual_layer): Sequential(\n            (0): HleConv1d(128, 128, kernel_size=(5,), stride=(1,), padding=(2,))\n            (1): InstanceNorm1d(128, eps=1e-05, momentum=0.25, affine=False, track_running_stats=False)\n          )\n          (skip_layer): Sequential(\n            (0): HleConv1d(128, 128, kernel_size=(5,), stride=(1,), padding=(2,))\n            (1): InstanceNorm1d(128, eps=1e-05, momentum=0.25, affine=False, track_running_stats=False)\n          )\n        )\n        (8): WaveNetLikeCell(\n          (in_seq_layer): Sequential(\n            (0): HleConv1d(128, 256, kernel_size=(5,), stride=(1,), padding=(8,), dilation=(4,))\n            (1): InstanceNorm1d(256, eps=1e-05, momentum=0.25, affine=False, track_running_stats=False)\n          )\n          (in_cond_layer): Sequential(\n            (0): Linear(in_features=16, out_features=128, bias=True)\n            (1): ReLU(inplace=True)\n            (2): Linear(in_features=128, out_features=128, bias=True)\n            (3): ReLU(inplace=True)\n            (4): Linear(in_features=128, out_features=256, bias=True)\n            (5): ReLU(inplace=True)\n          )\n          (residual_layer): Sequential(\n            (0): HleConv1d(128, 128, kernel_size=(5,), stride=(1,), padding=(2,))\n            (1): InstanceNorm1d(128, eps=1e-05, momentum=0.25, affine=False, track_running_stats=False)\n          )\n          (skip_layer): Sequential(\n            (0): HleConv1d(128, 128, kernel_size=(5,), stride=(1,), padding=(2,))\n            (1): InstanceNorm1d(128, eps=1e-05, momentum=0.25, affine=False, track_running_stats=False)\n          )\n        )\n      )\n    )\n    (output_layer): Sequential(\n      (0): HleConv1d(128, 256, kernel_size=(5,), stride=(1,), padding=(2,))\n      (1): InstanceNorm1d(256, eps=1e-05, momentum=0.25, affine=False, track_running_stats=False)\n      (2): GLU(dim=1)\n      (3): HleConv1d(128, 128, kernel_size=(15,), stride=(1,), padding=(7,))\n    )\n  )\n  (decoder_top): HleDecoder(\n    (input_layer): Sequential(\n      (0): HleConv1d(32, 256, kernel_size=(5,), stride=(1,), padding=(2,))\n      (1): InstanceNorm1d(256, eps=1e-05, momentum=0.25, affine=False, track_running_stats=False)\n      (2): GLU(dim=1)\n    )\n    (upsampling_layer): Sequential(\n      (0): HleConvTranspose1d(128, 256, kernel_size=(8,), stride=(2,), padding=(3,))\n      (1): InstanceNorm1d(256, eps=1e-05, momentum=0.25, affine=False, track_running_stats=False)\n      (2): GLU(dim=1)\n    )\n    (dilation_stack): WaveNetLikeStack(\n      (stack): ModuleList(\n        (0): WaveNetLikeCell(\n          (in_seq_layer): Sequential(\n            (0): HleConv1d(128, 256, kernel_size=(5,), stride=(1,), padding=(2,))\n            (1): InstanceNorm1d(256, eps=1e-05, momentum=0.25, affine=False, track_running_stats=False)\n          )\n          (in_cond_layer): Sequential(\n            (0): Linear(in_features=16, out_features=128, bias=True)\n            (1): ReLU(inplace=True)\n            (2): Linear(in_features=128, out_features=128, bias=True)\n            (3): ReLU(inplace=True)\n            (4): Linear(in_features=128, out_features=256, bias=True)\n            (5): ReLU(inplace=True)\n          )\n          (residual_layer): Sequential(\n            (0): HleConv1d(128, 128, kernel_size=(5,), stride=(1,), padding=(2,))\n            (1): InstanceNorm1d(128, eps=1e-05, momentum=0.25, affine=False, track_running_stats=False)\n          )\n          (skip_layer): Sequential(\n            (0): HleConv1d(128, 128, kernel_size=(5,), stride=(1,), padding=(2,))\n            (1): InstanceNorm1d(128, eps=1e-05, momentum=0.25, affine=False, track_running_stats=False)\n          )\n        )\n        (1): WaveNetLikeCell(\n          (in_seq_layer): Sequential(\n            (0): HleConv1d(128, 256, kernel_size=(5,), stride=(1,), padding=(4,), dilation=(2,))\n            (1): InstanceNorm1d(256, eps=1e-05, momentum=0.25, affine=False, track_running_stats=False)\n          )\n          (in_cond_layer): Sequential(\n            (0): Linear(in_features=16, out_features=128, bias=True)\n            (1): ReLU(inplace=True)\n            (2): Linear(in_features=128, out_features=128, bias=True)\n            (3): ReLU(inplace=True)\n            (4): Linear(in_features=128, out_features=256, bias=True)\n            (5): ReLU(inplace=True)\n          )\n          (residual_layer): Sequential(\n            (0): HleConv1d(128, 128, kernel_size=(5,), stride=(1,), padding=(2,))\n            (1): InstanceNorm1d(128, eps=1e-05, momentum=0.25, affine=False, track_running_stats=False)\n          )\n          (skip_layer): Sequential(\n            (0): HleConv1d(128, 128, kernel_size=(5,), stride=(1,), padding=(2,))\n            (1): InstanceNorm1d(128, eps=1e-05, momentum=0.25, affine=False, track_running_stats=False)\n          )\n        )\n        (2): WaveNetLikeCell(\n          (in_seq_layer): Sequential(\n            (0): HleConv1d(128, 256, kernel_size=(5,), stride=(1,), padding=(8,), dilation=(4,))\n            (1): InstanceNorm1d(256, eps=1e-05, momentum=0.25, affine=False, track_running_stats=False)\n          )\n          (in_cond_layer): Sequential(\n            (0): Linear(in_features=16, out_features=128, bias=True)\n            (1): ReLU(inplace=True)\n            (2): Linear(in_features=128, out_features=128, bias=True)\n            (3): ReLU(inplace=True)\n            (4): Linear(in_features=128, out_features=256, bias=True)\n            (5): ReLU(inplace=True)\n          )\n          (residual_layer): Sequential(\n            (0): HleConv1d(128, 128, kernel_size=(5,), stride=(1,), padding=(2,))\n            (1): InstanceNorm1d(128, eps=1e-05, momentum=0.25, affine=False, track_running_stats=False)\n          )\n          (skip_layer): Sequential(\n            (0): HleConv1d(128, 128, kernel_size=(5,), stride=(1,), padding=(2,))\n            (1): InstanceNorm1d(128, eps=1e-05, momentum=0.25, affine=False, track_running_stats=False)\n          )\n        )\n        (3): WaveNetLikeCell(\n          (in_seq_layer): Sequential(\n            (0): HleConv1d(128, 256, kernel_size=(5,), stride=(1,), padding=(2,))\n            (1): InstanceNorm1d(256, eps=1e-05, momentum=0.25, affine=False, track_running_stats=False)\n          )\n          (in_cond_layer): Sequential(\n            (0): Linear(in_features=16, out_features=128, bias=True)\n            (1): ReLU(inplace=True)\n            (2): Linear(in_features=128, out_features=128, bias=True)\n            (3): ReLU(inplace=True)\n            (4): Linear(in_features=128, out_features=256, bias=True)\n            (5): ReLU(inplace=True)\n          )\n          (residual_layer): Sequential(\n            (0): HleConv1d(128, 128, kernel_size=(5,), stride=(1,), padding=(2,))\n            (1): InstanceNorm1d(128, eps=1e-05, momentum=0.25, affine=False, track_running_stats=False)\n          )\n          (skip_layer): Sequential(\n            (0): HleConv1d(128, 128, kernel_size=(5,), stride=(1,), padding=(2,))\n            (1): InstanceNorm1d(128, eps=1e-05, momentum=0.25, affine=False, track_running_stats=False)\n          )\n        )\n        (4): WaveNetLikeCell(\n          (in_seq_layer): Sequential(\n            (0): HleConv1d(128, 256, kernel_size=(5,), stride=(1,), padding=(4,), dilation=(2,))\n            (1): InstanceNorm1d(256, eps=1e-05, momentum=0.25, affine=False, track_running_stats=False)\n          )\n          (in_cond_layer): Sequential(\n            (0): Linear(in_features=16, out_features=128, bias=True)\n            (1): ReLU(inplace=True)\n            (2): Linear(in_features=128, out_features=128, bias=True)\n            (3): ReLU(inplace=True)\n            (4): Linear(in_features=128, out_features=256, bias=True)\n            (5): ReLU(inplace=True)\n          )\n          (residual_layer): Sequential(\n            (0): HleConv1d(128, 128, kernel_size=(5,), stride=(1,), padding=(2,))\n            (1): InstanceNorm1d(128, eps=1e-05, momentum=0.25, affine=False, track_running_stats=False)\n          )\n          (skip_layer): Sequential(\n            (0): HleConv1d(128, 128, kernel_size=(5,), stride=(1,), padding=(2,))\n            (1): InstanceNorm1d(128, eps=1e-05, momentum=0.25, affine=False, track_running_stats=False)\n          )\n        )\n        (5): WaveNetLikeCell(\n          (in_seq_layer): Sequential(\n            (0): HleConv1d(128, 256, kernel_size=(5,), stride=(1,), padding=(8,), dilation=(4,))\n            (1): InstanceNorm1d(256, eps=1e-05, momentum=0.25, affine=False, track_running_stats=False)\n          )\n          (in_cond_layer): Sequential(\n            (0): Linear(in_features=16, out_features=128, bias=True)\n            (1): ReLU(inplace=True)\n            (2): Linear(in_features=128, out_features=128, bias=True)\n            (3): ReLU(inplace=True)\n            (4): Linear(in_features=128, out_features=256, bias=True)\n            (5): ReLU(inplace=True)\n          )\n          (residual_layer): Sequential(\n            (0): HleConv1d(128, 128, kernel_size=(5,), stride=(1,), padding=(2,))\n            (1): InstanceNorm1d(128, eps=1e-05, momentum=0.25, affine=False, track_running_stats=False)\n          )\n          (skip_layer): Sequential(\n            (0): HleConv1d(128, 128, kernel_size=(5,), stride=(1,), padding=(2,))\n            (1): InstanceNorm1d(128, eps=1e-05, momentum=0.25, affine=False, track_running_stats=False)\n          )\n        )\n        (6): WaveNetLikeCell(\n          (in_seq_layer): Sequential(\n            (0): HleConv1d(128, 256, kernel_size=(5,), stride=(1,), padding=(2,))\n            (1): InstanceNorm1d(256, eps=1e-05, momentum=0.25, affine=False, track_running_stats=False)\n          )\n          (in_cond_layer): Sequential(\n            (0): Linear(in_features=16, out_features=128, bias=True)\n            (1): ReLU(inplace=True)\n            (2): Linear(in_features=128, out_features=128, bias=True)\n            (3): ReLU(inplace=True)\n            (4): Linear(in_features=128, out_features=256, bias=True)\n            (5): ReLU(inplace=True)\n          )\n          (residual_layer): Sequential(\n            (0): HleConv1d(128, 128, kernel_size=(5,), stride=(1,), padding=(2,))\n            (1): InstanceNorm1d(128, eps=1e-05, momentum=0.25, affine=False, track_running_stats=False)\n          )\n          (skip_layer): Sequential(\n            (0): HleConv1d(128, 128, kernel_size=(5,), stride=(1,), padding=(2,))\n            (1): InstanceNorm1d(128, eps=1e-05, momentum=0.25, affine=False, track_running_stats=False)\n          )\n        )\n        (7): WaveNetLikeCell(\n          (in_seq_layer): Sequential(\n            (0): HleConv1d(128, 256, kernel_size=(5,), stride=(1,), padding=(4,), dilation=(2,))\n            (1): InstanceNorm1d(256, eps=1e-05, momentum=0.25, affine=False, track_running_stats=False)\n          )\n          (in_cond_layer): Sequential(\n            (0): Linear(in_features=16, out_features=128, bias=True)\n            (1): ReLU(inplace=True)\n            (2): Linear(in_features=128, out_features=128, bias=True)\n            (3): ReLU(inplace=True)\n            (4): Linear(in_features=128, out_features=256, bias=True)\n            (5): ReLU(inplace=True)\n          )\n          (residual_layer): Sequential(\n            (0): HleConv1d(128, 128, kernel_size=(5,), stride=(1,), padding=(2,))\n            (1): InstanceNorm1d(128, eps=1e-05, momentum=0.25, affine=False, track_running_stats=False)\n          )\n          (skip_layer): Sequential(\n            (0): HleConv1d(128, 128, kernel_size=(5,), stride=(1,), padding=(2,))\n            (1): InstanceNorm1d(128, eps=1e-05, momentum=0.25, affine=False, track_running_stats=False)\n          )\n        )\n        (8): WaveNetLikeCell(\n          (in_seq_layer): Sequential(\n            (0): HleConv1d(128, 256, kernel_size=(5,), stride=(1,), padding=(8,), dilation=(4,))\n            (1): InstanceNorm1d(256, eps=1e-05, momentum=0.25, affine=False, track_running_stats=False)\n          )\n          (in_cond_layer): Sequential(\n            (0): Linear(in_features=16, out_features=128, bias=True)\n            (1): ReLU(inplace=True)\n            (2): Linear(in_features=128, out_features=128, bias=True)\n            (3): ReLU(inplace=True)\n            (4): Linear(in_features=128, out_features=256, bias=True)\n            (5): ReLU(inplace=True)\n          )\n          (residual_layer): Sequential(\n            (0): HleConv1d(128, 128, kernel_size=(5,), stride=(1,), padding=(2,))\n            (1): InstanceNorm1d(128, eps=1e-05, momentum=0.25, affine=False, track_running_stats=False)\n          )\n          (skip_layer): Sequential(\n            (0): HleConv1d(128, 128, kernel_size=(5,), stride=(1,), padding=(2,))\n            (1): InstanceNorm1d(128, eps=1e-05, momentum=0.25, affine=False, track_running_stats=False)\n          )\n        )\n      )\n    )\n    (output_layer): Sequential(\n      (0): HleConv1d(128, 256, kernel_size=(5,), stride=(1,), padding=(2,))\n      (1): InstanceNorm1d(256, eps=1e-05, momentum=0.25, affine=False, track_running_stats=False)\n      (2): GLU(dim=1)\n      (3): HleConv1d(128, 128, kernel_size=(15,), stride=(1,), padding=(7,))\n    )\n  )\n  (loss_fn): HierarchicalVqVaeLoss(\n    (reconstruction_loss_fn): MSELoss()\n    (codebook_loss_fn): MSELoss()\n    (commitment_loss_fn): MSELoss()\n  )\n)"
     },
     "execution_count": 8,
     "metadata": {},
     "output_type": "execute_result"
    }
   ],
   "source": [
    "HLE_VQVAE_CHECKPOINT_DIR = os.path.join(PROJECT_ROOT, \"lightning_logs\", \"version_124\", \"checkpoints\")\n",
    "checkpoint_path = os.path.join(HLE_VQVAE_CHECKPOINT_DIR, os.listdir(HLE_VQVAE_CHECKPOINT_DIR)[0])\n",
    "vqvae_vc = HleVqVaeVc.load_from_checkpoint(checkpoint_path)\n",
    "vqvae_vc.to(device)"
   ],
   "metadata": {
    "collapsed": false,
    "ExecuteTime": {
     "start_time": "2023-04-11T15:50:12.486884Z",
     "end_time": "2023-04-11T15:50:14.604135Z"
    }
   }
  },
  {
   "cell_type": "markdown",
   "source": [
    "Voice Conversion:"
   ],
   "metadata": {
    "collapsed": false
   }
  },
  {
   "cell_type": "code",
   "execution_count": null,
   "outputs": [
    {
     "name": "stderr",
     "output_type": "stream",
     "text": [
      " 75%|███████████████████████████████████████████████████████████████████████████████████████████████████████████████████████████████████████████████████████████████████████████████████████▊                                                             | 18/24 [11:09<03:43, 37.18s/it]"
     ]
    }
   ],
   "source": [
    "n_speakers = 10\n",
    "\n",
    "speaker_utterances = defaultdict(lambda: [])\n",
    "with torch.no_grad():\n",
    "    for batch in tqdm(vctk_val_data_loader):\n",
    "        original_mels, original_wavs, original_speakers, _ = batch\n",
    "        original_mels = original_mels.to(device)\n",
    "        all_converted_mels = [[] for _ in range(original_mels.size(0))]\n",
    "        all_converted_wavs = [[] for _ in range(original_wavs.size(0))]\n",
    "        for converted_speaker in range(n_speakers):\n",
    "            converted_speakers = torch.ones((original_mels.size(0),), dtype=torch.long).to(device) * converted_speaker\n",
    "            converted_mels, _, _ = vqvae_vc(original_mels, converted_speakers)\n",
    "            for idx, converted_mel in enumerate(converted_mels):\n",
    "                all_converted_mels[idx].append(converted_mel.cpu().numpy())\n",
    "                all_converted_wavs[idx].append(vocoder.inference(converted_mel.transpose(-1, -2).squeeze()).squeeze().detach().cpu().numpy())\n",
    "        for original_mel, original_wav, original_speaker, converted_mels, converted_wavs in zip(original_mels, original_wavs, original_speakers, all_converted_mels, all_converted_wavs):\n",
    "            speaker_utterances[original_speaker.item()].append({\n",
    "                \"original_mel\": original_mel.cpu().numpy(),\n",
    "                \"original_wav\": original_wav.numpy(),\n",
    "                \"converted_mels\": converted_mels,\n",
    "                \"converted_wavs\": converted_wavs\n",
    "            })"
   ],
   "metadata": {
    "collapsed": false,
    "ExecuteTime": {
     "start_time": "2023-04-11T14:41:48.551253Z",
     "end_time": "2023-04-11T14:49:15.782290Z"
    },
    "pycharm": {
     "is_executing": true
    }
   }
  },
  {
   "cell_type": "markdown",
   "source": [
    "Listen to original and converted audios:"
   ],
   "metadata": {
    "collapsed": false
   }
  },
  {
   "cell_type": "code",
   "execution_count": null,
   "outputs": [],
   "source": [
    "speaker = 0\n",
    "utterance = 10\n",
    "\n",
    "utterance_dict = speaker_utterances[speaker][utterance]\n",
    "print(\"Original: \")\n",
    "display(ipd.Audio(utterance_dict[\"original_wav\"], rate=sr))\n",
    "print(\"Conversions: \")\n",
    "for converted_wav in utterance_dict[\"converted_wavs\"]:\n",
    "    display(ipd.Audio(converted_wav, rate=sr))"
   ],
   "metadata": {
    "collapsed": false,
    "ExecuteTime": {
     "start_time": "2023-04-11T14:56:29.727465Z",
     "end_time": "2023-04-11T14:56:31.736017Z"
    },
    "pycharm": {
     "is_executing": true
    }
   }
  },
  {
   "cell_type": "markdown",
   "source": [
    "Save originals and voice converted audios:"
   ],
   "metadata": {
    "collapsed": false
   }
  },
  {
   "cell_type": "code",
   "execution_count": 149,
   "outputs": [
    {
     "name": "stderr",
     "output_type": "stream",
     "text": [
      "100%|█████████████████████████████████████████████████████████████████████████████████████████████████████████████████████████████████████████████████████████████████████████████████████████████████████████████████████████████████████████████████████| 10/10 [01:06<00:00,  6.67s/it]\n"
     ]
    }
   ],
   "source": [
    "model = \"hle-vqvae-vc\"\n",
    "\n",
    "out_dir = os.path.join(\".\", \"reports\", \"audios\", model)\n",
    "for speaker, utterances in tqdm(speaker_utterances.items()):\n",
    "    out_dir_speaker = os.path.join(out_dir, f\"speaker{str(speaker)}\")\n",
    "    for utterance_idx, utterance in enumerate(utterances):\n",
    "        out_dir_speaker_utterance = os.path.join(out_dir_speaker, f\"utterance{str(utterance_idx)}\")\n",
    "        Path(out_dir_speaker_utterance).mkdir(parents=True, exist_ok=True)\n",
    "        original_wav = utterance[\"original_wav\"]\n",
    "        sf.write(os.path.join(out_dir_speaker_utterance, f\"utterance{utterance_idx}.speaker{speaker}.original.wav\"), original_wav, sr, format=\"wav\")\n",
    "        converted_wavs = utterance[\"converted_wavs\"]\n",
    "        for target_speaker, converted_wav in enumerate(converted_wavs):\n",
    "            sf.write(os.path.join(out_dir_speaker_utterance, f\"utterance{utterance_idx}.speaker{speaker}-to-speaker{target_speaker}.wav\"), converted_wav, sr, format=\"wav\")"
   ],
   "metadata": {
    "collapsed": false,
    "ExecuteTime": {
     "start_time": "2023-04-03T12:13:18.637125Z",
     "end_time": "2023-04-03T12:14:25.481060Z"
    }
   }
  }
 ],
 "metadata": {
  "kernelspec": {
   "name": "emonymous",
   "language": "python",
   "display_name": "emonymous"
  },
  "language_info": {
   "codemirror_mode": {
    "name": "ipython",
    "version": 2
   },
   "file_extension": ".py",
   "mimetype": "text/x-python",
   "name": "python",
   "nbconvert_exporter": "python",
   "pygments_lexer": "ipython2",
   "version": "2.7.6"
  }
 },
 "nbformat": 4,
 "nbformat_minor": 0
}
